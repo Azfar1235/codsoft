{
 "cells": [
  {
   "cell_type": "code",
   "execution_count": 5,
   "id": "43679292-6718-4d13-a8bb-4328d0065db1",
   "metadata": {},
   "outputs": [
    {
     "name": "stdout",
     "output_type": "stream",
     "text": [
      "Recommended books: ['El Senor De Los Anillos: Las DOS Torres (Lord of the Rings (Paperback))', 'The Book of Lost Tales 1 (The History of Middle-Earth - Volume 1)', 'El Senor De Los Anillos: El Retorno Del Rey (Tolkien, J. R. R. Lord of the Rings. 3.)', 'The Book of Lost Tales 2 (The History of Middle-Earth - Volume 2)', 'The Two Towers (The Lord of the Rings, Part 2)']\n"
     ]
    }
   ],
   "source": [
    "import pandas as pd\n",
    "from sklearn.feature_extraction.text import TfidfVectorizer\n",
    "from sklearn.metrics.pairwise import cosine_similarity\n",
    "\n",
    "# Load and preprocess the dataset\n",
    "df = pd.read_csv(\"Books.csv\", engine=\"python\")\n",
    "df = df[[\"Book-Title\", \"Book-Author\",]].dropna().reset_index(drop=True)\n",
    "df = df[:5500]\n",
    "\n",
    "df['Book-Author'] = df['Book-Author'].str.replace('[', '', regex=False).str.replace(']', '', regex=False).str.replace(\"'\", \"\", regex=False).str.replace(',', ' ', regex=False)\n",
    "df['Book-Author'] = df['Book-Author'].str.lower()\n",
    "\n",
    "\n",
    "\n",
    "\n",
    "tfidf = TfidfVectorizer(stop_words='english')\n",
    "\n",
    "\n",
    "tfidf_matrix = tfidf.fit_transform(df['Book-Author'])\n",
    "\n",
    "\n",
    "similarity_matrix = cosine_similarity(tfidf_matrix, tfidf_matrix)\n",
    "\n",
    "def recommend_by_genre(genre, num_recommendations=10):\n",
    "\n",
    "    filtered_df = df[df['Book-Author'].str.contains(genre.lower(), case=False)]\n",
    "    \n",
    "    if filtered_df.empty:\n",
    "        return f\"No movies found for genre '{genre}'.\"\n",
    "    \n",
    "\n",
    "    recommended_books = []\n",
    "\n",
    "    for idx in filtered_df.index:\n",
    "\n",
    "        sim_scores = list(enumerate(similarity_matrix[idx]))\n",
    "        \n",
    "\n",
    "        sim_scores = sorted(sim_scores, key=lambda x: x[1], reverse=True)\n",
    "        \n",
    "\n",
    "        sim_scores = sim_scores[1:num_recommendations + 1]  # Exclude the input movie itself\n",
    "        \n",
    "\n",
    "        movie_indices = [i[0] for i in sim_scores]\n",
    "        top_movies = df['Book-Title'].iloc[movie_indices].tolist()\n",
    "        recommended_books.extend(top_movies)\n",
    "    \n",
    "\n",
    "    recommended_books = list(set(recommended_books))\n",
    "    \n",
    "    return recommended_books[:num_recommendations]\n",
    "\n",
    "\n",
    "recommended_books = recommend_by_genre(\"J. R. R. Tolkien\", num_recommendations=5)\n",
    "print(\"Recommended books:\", recommended_books)"
   ]
  },
  {
   "cell_type": "code",
   "execution_count": null,
   "id": "fc120def-a780-47e2-a6a8-1d6954efb4b7",
   "metadata": {},
   "outputs": [],
   "source": []
  },
  {
   "cell_type": "code",
   "execution_count": null,
   "id": "be2f6dd0-c7f4-4211-9b5d-ed90e891806d",
   "metadata": {},
   "outputs": [],
   "source": []
  }
 ],
 "metadata": {
  "kernelspec": {
   "display_name": "Python 3 (ipykernel)",
   "language": "python",
   "name": "python3"
  },
  "language_info": {
   "codemirror_mode": {
    "name": "ipython",
    "version": 3
   },
   "file_extension": ".py",
   "mimetype": "text/x-python",
   "name": "python",
   "nbconvert_exporter": "python",
   "pygments_lexer": "ipython3",
   "version": "3.11.7"
  }
 },
 "nbformat": 4,
 "nbformat_minor": 5
}
